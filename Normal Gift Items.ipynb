{
 "cells": [
  {
   "cell_type": "code",
   "execution_count": 183,
   "id": "19987ac8",
   "metadata": {},
   "outputs": [],
   "source": [
    "# In this webscraping, we are scaping the information in a tabular form \n",
    "# from the \"https://www.pythonscraping.com/pages/page3.html\" site which is about the Normal Gifts Items.\n",
    "# We scrap the (1) Item Title (2) Descriptions (3) Costs (4) Image Url in a table form."
   ]
  },
  {
   "cell_type": "code",
   "execution_count": 184,
   "id": "7a5be55f",
   "metadata": {},
   "outputs": [],
   "source": [
    "import requests\n",
    "from bs4 import BeautifulSoup"
   ]
  },
  {
   "cell_type": "code",
   "execution_count": 185,
   "id": "f29908f4",
   "metadata": {},
   "outputs": [],
   "source": [
    "get_url=requests.get(\"https://www.pythonscraping.com/pages/page3.html\") \n",
    "bs_object=BeautifulSoup(get_url.text,'html.parser') \n",
    "# bs_object"
   ]
  },
  {
   "cell_type": "code",
   "execution_count": 186,
   "id": "8078fa53",
   "metadata": {},
   "outputs": [],
   "source": [
    "table=bs_object.find('table',attrs={'id':'giftList'})"
   ]
  },
  {
   "cell_type": "code",
   "execution_count": 187,
   "id": "46cd7d77",
   "metadata": {},
   "outputs": [],
   "source": [
    "# table"
   ]
  },
  {
   "cell_type": "code",
   "execution_count": 188,
   "id": "23406d24",
   "metadata": {},
   "outputs": [
    {
     "data": {
      "text/plain": [
       "<tr class=\"gift\" id=\"gift1\"><td>\n",
       "Vegetable Basket\n",
       "</td><td>\n",
       "This vegetable basket is the perfect gift for your health conscious (or overweight) friends!\n",
       "<span class=\"excitingNote\">Now with super-colorful bell peppers!</span>\n",
       "</td><td>\n",
       "$15.00\n",
       "</td><td>\n",
       "<img src=\"../img/gifts/img1.jpg\"/>\n",
       "</td></tr>"
      ]
     },
     "execution_count": 188,
     "metadata": {},
     "output_type": "execute_result"
    }
   ],
   "source": [
    "list(table.children)[3] # Actual datas are in Row 3"
   ]
  },
  {
   "cell_type": "code",
   "execution_count": 189,
   "id": "505ae16b",
   "metadata": {},
   "outputs": [],
   "source": [
    "master=[]\n",
    "for row in table.children:\n",
    "    if (row!='\\n'):\n",
    "        td=row.find_all('td') # extracting the td if the row does not have value '\\n'\n",
    "#         print(td) \n",
    "        if td:\n",
    "            d = {}\n",
    "            d['Item_title']=td[0].text.strip()\n",
    "            d['Description']=td[1].text.strip()\n",
    "            d['Cost']=td[2].text.strip()\n",
    "            d['Img_link']=td[3].img['src'].strip()\n",
    "        master.append(d)"
   ]
  },
  {
   "cell_type": "code",
   "execution_count": 190,
   "id": "30642b4a",
   "metadata": {},
   "outputs": [],
   "source": [
    "import pandas as pd"
   ]
  },
  {
   "cell_type": "code",
   "execution_count": 191,
   "id": "6bd39334",
   "metadata": {},
   "outputs": [],
   "source": [
    "df=pd.DataFrame(master)"
   ]
  },
  {
   "cell_type": "code",
   "execution_count": 192,
   "id": "0aa90773",
   "metadata": {},
   "outputs": [
    {
     "data": {
      "text/html": [
       "<div>\n",
       "<style scoped>\n",
       "    .dataframe tbody tr th:only-of-type {\n",
       "        vertical-align: middle;\n",
       "    }\n",
       "\n",
       "    .dataframe tbody tr th {\n",
       "        vertical-align: top;\n",
       "    }\n",
       "\n",
       "    .dataframe thead th {\n",
       "        text-align: right;\n",
       "    }\n",
       "</style>\n",
       "<table border=\"1\" class=\"dataframe\">\n",
       "  <thead>\n",
       "    <tr style=\"text-align: right;\">\n",
       "      <th></th>\n",
       "      <th>Item_title</th>\n",
       "      <th>Description</th>\n",
       "      <th>Cost</th>\n",
       "      <th>Img_link</th>\n",
       "    </tr>\n",
       "  </thead>\n",
       "  <tbody>\n",
       "    <tr>\n",
       "      <th>0</th>\n",
       "      <td>Mystery Box</td>\n",
       "      <td>If you love suprises, this mystery box is for ...</td>\n",
       "      <td>$1.50</td>\n",
       "      <td>../img/gifts/img6.jpg</td>\n",
       "    </tr>\n",
       "    <tr>\n",
       "      <th>1</th>\n",
       "      <td>Vegetable Basket</td>\n",
       "      <td>This vegetable basket is the perfect gift for ...</td>\n",
       "      <td>$15.00</td>\n",
       "      <td>../img/gifts/img1.jpg</td>\n",
       "    </tr>\n",
       "    <tr>\n",
       "      <th>2</th>\n",
       "      <td>Russian Nesting Dolls</td>\n",
       "      <td>Hand-painted by trained monkeys, these exquisi...</td>\n",
       "      <td>$10,000.52</td>\n",
       "      <td>../img/gifts/img2.jpg</td>\n",
       "    </tr>\n",
       "    <tr>\n",
       "      <th>3</th>\n",
       "      <td>Fish Painting</td>\n",
       "      <td>If something seems fishy about this painting, ...</td>\n",
       "      <td>$10,005.00</td>\n",
       "      <td>../img/gifts/img3.jpg</td>\n",
       "    </tr>\n",
       "    <tr>\n",
       "      <th>4</th>\n",
       "      <td>Dead Parrot</td>\n",
       "      <td>This is an ex-parrot! Or maybe he's only resting?</td>\n",
       "      <td>$0.50</td>\n",
       "      <td>../img/gifts/img4.jpg</td>\n",
       "    </tr>\n",
       "  </tbody>\n",
       "</table>\n",
       "</div>"
      ],
      "text/plain": [
       "              Item_title                                        Description  \\\n",
       "0            Mystery Box  If you love suprises, this mystery box is for ...   \n",
       "1       Vegetable Basket  This vegetable basket is the perfect gift for ...   \n",
       "2  Russian Nesting Dolls  Hand-painted by trained monkeys, these exquisi...   \n",
       "3          Fish Painting  If something seems fishy about this painting, ...   \n",
       "4            Dead Parrot  This is an ex-parrot! Or maybe he's only resting?   \n",
       "\n",
       "         Cost               Img_link  \n",
       "0       $1.50  ../img/gifts/img6.jpg  \n",
       "1      $15.00  ../img/gifts/img1.jpg  \n",
       "2  $10,000.52  ../img/gifts/img2.jpg  \n",
       "3  $10,005.00  ../img/gifts/img3.jpg  \n",
       "4       $0.50  ../img/gifts/img4.jpg  "
      ]
     },
     "execution_count": 192,
     "metadata": {},
     "output_type": "execute_result"
    }
   ],
   "source": [
    "df.head()"
   ]
  }
 ],
 "metadata": {
  "kernelspec": {
   "display_name": "Python 3 (ipykernel)",
   "language": "python",
   "name": "python3"
  },
  "language_info": {
   "codemirror_mode": {
    "name": "ipython",
    "version": 3
   },
   "file_extension": ".py",
   "mimetype": "text/x-python",
   "name": "python",
   "nbconvert_exporter": "python",
   "pygments_lexer": "ipython3",
   "version": "3.9.7"
  }
 },
 "nbformat": 4,
 "nbformat_minor": 5
}
