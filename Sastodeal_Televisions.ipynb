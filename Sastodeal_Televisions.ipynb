{
  "nbformat": 4,
  "nbformat_minor": 0,
  "metadata": {
    "colab": {
      "name": "Sastodeal-Televisions.ipynb",
      "provenance": [],
      "collapsed_sections": [],
      "include_colab_link": true
    },
    "kernelspec": {
      "name": "python3",
      "display_name": "Python 3"
    },
    "language_info": {
      "name": "python"
    }
  },
  "cells": [
    {
      "cell_type": "markdown",
      "metadata": {
        "id": "view-in-github",
        "colab_type": "text"
      },
      "source": [
        "<a href=\"https://colab.research.google.com/github/Gwontips/Webscraping/blob/main/Sastodeal_Televisions.ipynb\" target=\"_parent\"><img src=\"https://colab.research.google.com/assets/colab-badge.svg\" alt=\"Open In Colab\"/></a>"
      ]
    },
    {
      "cell_type": "markdown",
      "source": [
        "Scraping the data about televisions (i.e. Name, Prices and URL Link) from the E-commerce: Sastodeal website. Also creating and saving the data in csv file. "
      ],
      "metadata": {
        "id": "0Oj9GCYNfWk9"
      }
    },
    {
      "cell_type": "code",
      "execution_count": 1,
      "metadata": {
        "id": "rk6wk1cw5Tj5"
      },
      "outputs": [],
      "source": [
        "import requests\n",
        "from bs4 import BeautifulSoup\n",
        "import csv\n",
        "import pandas as pd"
      ]
    },
    {
      "cell_type": "code",
      "source": [
        "def get_html_doc(url):\n",
        "    response=requests.get(url)\n",
        "    return (response.text)"
      ],
      "metadata": {
        "id": "TE0q1bTV5UzJ"
      },
      "execution_count": 2,
      "outputs": []
    },
    {
      "cell_type": "code",
      "source": [
        "def parse_html(html_text):\n",
        "    bs_object=BeautifulSoup(html_text,\"html.parser\")\n",
        "    return bs_object"
      ],
      "metadata": {
        "id": "LSxcDa6C5Wc5"
      },
      "execution_count": 3,
      "outputs": []
    },
    {
      "cell_type": "code",
      "source": [
        "def get_data(bs_object):\n",
        "    data_list=[]\n",
        "    raw_soup=bs_object.find(\"ol\",class_=[\"products\",\"list\",\"items\",\"product-items\"])\n",
        "    raw_data=raw_soup.find_all('li')\n",
        "    for data in range(len(raw_data)):\n",
        "      d = {}\n",
        "      d['Product_Name'] = raw_data[data].strong.text\n",
        "      prices =raw_data[data].find_all('span',attrs={'class':'price'})\n",
        "      if (len(prices))==2:\n",
        "        d['New_price']=prices[1].text.replace(\"रू \",\"\")\n",
        "        d['Old_price']=prices[0].text.replace(\"रू \",\"\")\n",
        "      else:\n",
        "        d['Old_price']=prices[0].text.replace(\"रू \",\"\")\n",
        "        d['New_price']=prices[0].text.replace(\"रू \",\"\")\n",
        "      d['URL_link']=raw_data[i].a['href']\n",
        "      data_list.append(d)\n",
        "    return data_list"
      ],
      "metadata": {
        "id": "5nDpvdsh5a2V"
      },
      "execution_count": 14,
      "outputs": []
    },
    {
      "cell_type": "code",
      "source": [
        "master_data=[]\n",
        "for i in range(1,4):\n",
        "    url = \"https://www.sastodeal.com/electronic/televisions.html?p={}\".format(i)\n",
        "    html_text=get_html_doc(url)\n",
        "    bs_object=parse_html(html_text)\n",
        "    get_data(bs_object)\n",
        "    master_data.extend(get_data(bs_object))"
      ],
      "metadata": {
        "id": "-lhPgwGG5fHZ"
      },
      "execution_count": 15,
      "outputs": []
    },
    {
      "cell_type": "code",
      "source": [
        "pd.DataFrame(master_data)"
      ],
      "metadata": {
        "id": "gW_X-CxMBVvJ",
        "colab": {
          "base_uri": "https://localhost:8080/",
          "height": 1067
        },
        "outputId": "20035de3-36b9-4b96-8dbf-3afdfa65e84c"
      },
      "execution_count": 17,
      "outputs": [
        {
          "output_type": "execute_result",
          "data": {
            "text/plain": [
              "                                         Product_Name New_price Old_price  \\\n",
              "0             Samsung 32″ Smart LED TV UA32T4400ARXHE    42,350    55,990   \n",
              "1             Samsung 32''Smart LED TV UA32T4500ARXHE    56,691    62,990   \n",
              "2     Samsung 43″ Smart Full HD LED TV UA43T5400ARXHE    63,250    78,990   \n",
              "3   Samsung 108 cm (43 inches) Full HD LED Smart T...    71,091    78,990   \n",
              "4     Samsung 43″ Smart Full HD LED TV UA43T5500ARXHE    80,991    89,990   \n",
              "..                                                ...       ...       ...   \n",
              "95        Technos 43'' Android Smart LED TV E43DM1100    38,250    45,000   \n",
              "96                        Syinix 43 inch LED Smart TV    41,000    51,000   \n",
              "97                   Videocon 65'' Smart Led TV 65DN5   108,000   136,350   \n",
              "98          Hisense 39 FHD LED TV %E2%80%93 HX39N2176    39,000    51,500   \n",
              "99              Hisense 43 Inch LED TV LED HX43M2176F    37,000    48,750   \n",
              "\n",
              "                                             URL_link  \n",
              "0   https://www.sastodeal.com/electronic/samsung-3...  \n",
              "1   https://www.sastodeal.com/electronic/samsung-3...  \n",
              "2   https://www.sastodeal.com/electronic/samsung-3...  \n",
              "3   https://www.sastodeal.com/electronic/samsung-3...  \n",
              "4   https://www.sastodeal.com/electronic/samsung-3...  \n",
              "..                                                ...  \n",
              "95  https://www.sastodeal.com/samsung-43-108-cm-sm...  \n",
              "96  https://www.sastodeal.com/samsung-43-108-cm-sm...  \n",
              "97  https://www.sastodeal.com/samsung-43-108-cm-sm...  \n",
              "98  https://www.sastodeal.com/samsung-43-108-cm-sm...  \n",
              "99  https://www.sastodeal.com/samsung-43-108-cm-sm...  \n",
              "\n",
              "[100 rows x 4 columns]"
            ],
            "text/html": [
              "\n",
              "  <div id=\"df-80041083-54c8-43b7-b19a-ab95ffbab29e\">\n",
              "    <div class=\"colab-df-container\">\n",
              "      <div>\n",
              "<style scoped>\n",
              "    .dataframe tbody tr th:only-of-type {\n",
              "        vertical-align: middle;\n",
              "    }\n",
              "\n",
              "    .dataframe tbody tr th {\n",
              "        vertical-align: top;\n",
              "    }\n",
              "\n",
              "    .dataframe thead th {\n",
              "        text-align: right;\n",
              "    }\n",
              "</style>\n",
              "<table border=\"1\" class=\"dataframe\">\n",
              "  <thead>\n",
              "    <tr style=\"text-align: right;\">\n",
              "      <th></th>\n",
              "      <th>Product_Name</th>\n",
              "      <th>New_price</th>\n",
              "      <th>Old_price</th>\n",
              "      <th>URL_link</th>\n",
              "    </tr>\n",
              "  </thead>\n",
              "  <tbody>\n",
              "    <tr>\n",
              "      <th>0</th>\n",
              "      <td>Samsung 32″ Smart LED TV UA32T4400ARXHE</td>\n",
              "      <td>42,350</td>\n",
              "      <td>55,990</td>\n",
              "      <td>https://www.sastodeal.com/electronic/samsung-3...</td>\n",
              "    </tr>\n",
              "    <tr>\n",
              "      <th>1</th>\n",
              "      <td>Samsung 32''Smart LED TV UA32T4500ARXHE</td>\n",
              "      <td>56,691</td>\n",
              "      <td>62,990</td>\n",
              "      <td>https://www.sastodeal.com/electronic/samsung-3...</td>\n",
              "    </tr>\n",
              "    <tr>\n",
              "      <th>2</th>\n",
              "      <td>Samsung 43″ Smart Full HD LED TV UA43T5400ARXHE</td>\n",
              "      <td>63,250</td>\n",
              "      <td>78,990</td>\n",
              "      <td>https://www.sastodeal.com/electronic/samsung-3...</td>\n",
              "    </tr>\n",
              "    <tr>\n",
              "      <th>3</th>\n",
              "      <td>Samsung 108 cm (43 inches) Full HD LED Smart T...</td>\n",
              "      <td>71,091</td>\n",
              "      <td>78,990</td>\n",
              "      <td>https://www.sastodeal.com/electronic/samsung-3...</td>\n",
              "    </tr>\n",
              "    <tr>\n",
              "      <th>4</th>\n",
              "      <td>Samsung 43″ Smart Full HD LED TV UA43T5500ARXHE</td>\n",
              "      <td>80,991</td>\n",
              "      <td>89,990</td>\n",
              "      <td>https://www.sastodeal.com/electronic/samsung-3...</td>\n",
              "    </tr>\n",
              "    <tr>\n",
              "      <th>...</th>\n",
              "      <td>...</td>\n",
              "      <td>...</td>\n",
              "      <td>...</td>\n",
              "      <td>...</td>\n",
              "    </tr>\n",
              "    <tr>\n",
              "      <th>95</th>\n",
              "      <td>Technos 43'' Android Smart LED TV E43DM1100</td>\n",
              "      <td>38,250</td>\n",
              "      <td>45,000</td>\n",
              "      <td>https://www.sastodeal.com/samsung-43-108-cm-sm...</td>\n",
              "    </tr>\n",
              "    <tr>\n",
              "      <th>96</th>\n",
              "      <td>Syinix 43 inch LED Smart TV</td>\n",
              "      <td>41,000</td>\n",
              "      <td>51,000</td>\n",
              "      <td>https://www.sastodeal.com/samsung-43-108-cm-sm...</td>\n",
              "    </tr>\n",
              "    <tr>\n",
              "      <th>97</th>\n",
              "      <td>Videocon 65'' Smart Led TV 65DN5</td>\n",
              "      <td>108,000</td>\n",
              "      <td>136,350</td>\n",
              "      <td>https://www.sastodeal.com/samsung-43-108-cm-sm...</td>\n",
              "    </tr>\n",
              "    <tr>\n",
              "      <th>98</th>\n",
              "      <td>Hisense 39 FHD LED TV %E2%80%93 HX39N2176</td>\n",
              "      <td>39,000</td>\n",
              "      <td>51,500</td>\n",
              "      <td>https://www.sastodeal.com/samsung-43-108-cm-sm...</td>\n",
              "    </tr>\n",
              "    <tr>\n",
              "      <th>99</th>\n",
              "      <td>Hisense 43 Inch LED TV LED HX43M2176F</td>\n",
              "      <td>37,000</td>\n",
              "      <td>48,750</td>\n",
              "      <td>https://www.sastodeal.com/samsung-43-108-cm-sm...</td>\n",
              "    </tr>\n",
              "  </tbody>\n",
              "</table>\n",
              "<p>100 rows × 4 columns</p>\n",
              "</div>\n",
              "      <button class=\"colab-df-convert\" onclick=\"convertToInteractive('df-80041083-54c8-43b7-b19a-ab95ffbab29e')\"\n",
              "              title=\"Convert this dataframe to an interactive table.\"\n",
              "              style=\"display:none;\">\n",
              "        \n",
              "  <svg xmlns=\"http://www.w3.org/2000/svg\" height=\"24px\"viewBox=\"0 0 24 24\"\n",
              "       width=\"24px\">\n",
              "    <path d=\"M0 0h24v24H0V0z\" fill=\"none\"/>\n",
              "    <path d=\"M18.56 5.44l.94 2.06.94-2.06 2.06-.94-2.06-.94-.94-2.06-.94 2.06-2.06.94zm-11 1L8.5 8.5l.94-2.06 2.06-.94-2.06-.94L8.5 2.5l-.94 2.06-2.06.94zm10 10l.94 2.06.94-2.06 2.06-.94-2.06-.94-.94-2.06-.94 2.06-2.06.94z\"/><path d=\"M17.41 7.96l-1.37-1.37c-.4-.4-.92-.59-1.43-.59-.52 0-1.04.2-1.43.59L10.3 9.45l-7.72 7.72c-.78.78-.78 2.05 0 2.83L4 21.41c.39.39.9.59 1.41.59.51 0 1.02-.2 1.41-.59l7.78-7.78 2.81-2.81c.8-.78.8-2.07 0-2.86zM5.41 20L4 18.59l7.72-7.72 1.47 1.35L5.41 20z\"/>\n",
              "  </svg>\n",
              "      </button>\n",
              "      \n",
              "  <style>\n",
              "    .colab-df-container {\n",
              "      display:flex;\n",
              "      flex-wrap:wrap;\n",
              "      gap: 12px;\n",
              "    }\n",
              "\n",
              "    .colab-df-convert {\n",
              "      background-color: #E8F0FE;\n",
              "      border: none;\n",
              "      border-radius: 50%;\n",
              "      cursor: pointer;\n",
              "      display: none;\n",
              "      fill: #1967D2;\n",
              "      height: 32px;\n",
              "      padding: 0 0 0 0;\n",
              "      width: 32px;\n",
              "    }\n",
              "\n",
              "    .colab-df-convert:hover {\n",
              "      background-color: #E2EBFA;\n",
              "      box-shadow: 0px 1px 2px rgba(60, 64, 67, 0.3), 0px 1px 3px 1px rgba(60, 64, 67, 0.15);\n",
              "      fill: #174EA6;\n",
              "    }\n",
              "\n",
              "    [theme=dark] .colab-df-convert {\n",
              "      background-color: #3B4455;\n",
              "      fill: #D2E3FC;\n",
              "    }\n",
              "\n",
              "    [theme=dark] .colab-df-convert:hover {\n",
              "      background-color: #434B5C;\n",
              "      box-shadow: 0px 1px 3px 1px rgba(0, 0, 0, 0.15);\n",
              "      filter: drop-shadow(0px 1px 2px rgba(0, 0, 0, 0.3));\n",
              "      fill: #FFFFFF;\n",
              "    }\n",
              "  </style>\n",
              "\n",
              "      <script>\n",
              "        const buttonEl =\n",
              "          document.querySelector('#df-80041083-54c8-43b7-b19a-ab95ffbab29e button.colab-df-convert');\n",
              "        buttonEl.style.display =\n",
              "          google.colab.kernel.accessAllowed ? 'block' : 'none';\n",
              "\n",
              "        async function convertToInteractive(key) {\n",
              "          const element = document.querySelector('#df-80041083-54c8-43b7-b19a-ab95ffbab29e');\n",
              "          const dataTable =\n",
              "            await google.colab.kernel.invokeFunction('convertToInteractive',\n",
              "                                                     [key], {});\n",
              "          if (!dataTable) return;\n",
              "\n",
              "          const docLinkHtml = 'Like what you see? Visit the ' +\n",
              "            '<a target=\"_blank\" href=https://colab.research.google.com/notebooks/data_table.ipynb>data table notebook</a>'\n",
              "            + ' to learn more about interactive tables.';\n",
              "          element.innerHTML = '';\n",
              "          dataTable['output_type'] = 'display_data';\n",
              "          await google.colab.output.renderOutput(dataTable, element);\n",
              "          const docLink = document.createElement('div');\n",
              "          docLink.innerHTML = docLinkHtml;\n",
              "          element.appendChild(docLink);\n",
              "        }\n",
              "      </script>\n",
              "    </div>\n",
              "  </div>\n",
              "  "
            ]
          },
          "metadata": {},
          "execution_count": 17
        }
      ]
    },
    {
      "cell_type": "code",
      "source": [
        "with open(\"Sastodeal.csv\",\"w\") as f:\n",
        "    field_names=list(master_data[0].keys())\n",
        "    writer=csv.DictWriter(f,field_names)\n",
        "    writer.writeheader()\n",
        "    for data in master_data:\n",
        "     writer.writerow(data)"
      ],
      "metadata": {
        "id": "eKc1Gvs95hWh"
      },
      "execution_count": 18,
      "outputs": []
    },
    {
      "cell_type": "code",
      "source": [
        ""
      ],
      "metadata": {
        "id": "9XNadhYy6OTo"
      },
      "execution_count": 8,
      "outputs": []
    }
  ]
}